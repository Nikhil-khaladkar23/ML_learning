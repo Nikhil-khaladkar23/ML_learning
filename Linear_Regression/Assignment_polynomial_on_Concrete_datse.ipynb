{
 "cells": [
  {
   "cell_type": "code",
   "execution_count": 1,
   "id": "11939177-7cab-45a9-8f3f-923b462719f2",
   "metadata": {},
   "outputs": [],
   "source": [
    "import pandas as pd\n",
    "import numpy as np\n",
    "from sklearn.metrics import *\n",
    "from sklearn.linear_model import LinearRegression\n",
    "from sklearn.model_selection import train_test_split"
   ]
  },
  {
   "cell_type": "code",
   "execution_count": 2,
   "id": "96635fd2-088d-447f-b51a-bfd17ec784f1",
   "metadata": {},
   "outputs": [
    {
     "data": {
      "text/html": [
       "<div>\n",
       "<style scoped>\n",
       "    .dataframe tbody tr th:only-of-type {\n",
       "        vertical-align: middle;\n",
       "    }\n",
       "\n",
       "    .dataframe tbody tr th {\n",
       "        vertical-align: top;\n",
       "    }\n",
       "\n",
       "    .dataframe thead th {\n",
       "        text-align: right;\n",
       "    }\n",
       "</style>\n",
       "<table border=\"1\" class=\"dataframe\">\n",
       "  <thead>\n",
       "    <tr style=\"text-align: right;\">\n",
       "      <th></th>\n",
       "      <th>Cement</th>\n",
       "      <th>Blast</th>\n",
       "      <th>Fly</th>\n",
       "      <th>Water</th>\n",
       "      <th>Superplasticizer</th>\n",
       "      <th>Coarse</th>\n",
       "      <th>Fine</th>\n",
       "      <th>Age</th>\n",
       "      <th>Strength</th>\n",
       "    </tr>\n",
       "  </thead>\n",
       "  <tbody>\n",
       "    <tr>\n",
       "      <th>0</th>\n",
       "      <td>540.0</td>\n",
       "      <td>0.0</td>\n",
       "      <td>0.0</td>\n",
       "      <td>162.0</td>\n",
       "      <td>2.5</td>\n",
       "      <td>1040.0</td>\n",
       "      <td>676.0</td>\n",
       "      <td>28</td>\n",
       "      <td>79.99</td>\n",
       "    </tr>\n",
       "    <tr>\n",
       "      <th>1</th>\n",
       "      <td>540.0</td>\n",
       "      <td>0.0</td>\n",
       "      <td>0.0</td>\n",
       "      <td>162.0</td>\n",
       "      <td>2.5</td>\n",
       "      <td>1055.0</td>\n",
       "      <td>676.0</td>\n",
       "      <td>28</td>\n",
       "      <td>61.89</td>\n",
       "    </tr>\n",
       "    <tr>\n",
       "      <th>2</th>\n",
       "      <td>332.5</td>\n",
       "      <td>142.5</td>\n",
       "      <td>0.0</td>\n",
       "      <td>228.0</td>\n",
       "      <td>0.0</td>\n",
       "      <td>932.0</td>\n",
       "      <td>594.0</td>\n",
       "      <td>270</td>\n",
       "      <td>40.27</td>\n",
       "    </tr>\n",
       "    <tr>\n",
       "      <th>3</th>\n",
       "      <td>332.5</td>\n",
       "      <td>142.5</td>\n",
       "      <td>0.0</td>\n",
       "      <td>228.0</td>\n",
       "      <td>0.0</td>\n",
       "      <td>932.0</td>\n",
       "      <td>594.0</td>\n",
       "      <td>365</td>\n",
       "      <td>41.05</td>\n",
       "    </tr>\n",
       "    <tr>\n",
       "      <th>4</th>\n",
       "      <td>198.6</td>\n",
       "      <td>132.4</td>\n",
       "      <td>0.0</td>\n",
       "      <td>192.0</td>\n",
       "      <td>0.0</td>\n",
       "      <td>978.4</td>\n",
       "      <td>825.5</td>\n",
       "      <td>360</td>\n",
       "      <td>44.30</td>\n",
       "    </tr>\n",
       "  </tbody>\n",
       "</table>\n",
       "</div>"
      ],
      "text/plain": [
       "   Cement  Blast  Fly  Water  Superplasticizer  Coarse   Fine  Age  Strength\n",
       "0   540.0    0.0  0.0  162.0               2.5  1040.0  676.0   28     79.99\n",
       "1   540.0    0.0  0.0  162.0               2.5  1055.0  676.0   28     61.89\n",
       "2   332.5  142.5  0.0  228.0               0.0   932.0  594.0  270     40.27\n",
       "3   332.5  142.5  0.0  228.0               0.0   932.0  594.0  365     41.05\n",
       "4   198.6  132.4  0.0  192.0               0.0   978.4  825.5  360     44.30"
      ]
     },
     "execution_count": 2,
     "metadata": {},
     "output_type": "execute_result"
    }
   ],
   "source": [
    "df= pd.read_csv(\"C:\\\\Users\\\\dhsup\\\\Downloads\\\\Concrete_Data.csv\")\n",
    "df.head()"
   ]
  },
  {
   "cell_type": "code",
   "execution_count": 3,
   "id": "2d4a6633-f224-4f37-96ca-9b3ffc341d85",
   "metadata": {},
   "outputs": [],
   "source": [
    "df_dum = pd.get_dummies(df)"
   ]
  },
  {
   "cell_type": "code",
   "execution_count": 4,
   "id": "a3cc6f25-8ec9-4b4c-9787-92fd41aeaa5c",
   "metadata": {},
   "outputs": [],
   "source": [
    "x=df_dum.drop(\"Strength\",axis = 1)\n",
    "y=df_dum[\"Strength\"]"
   ]
  },
  {
   "cell_type": "code",
   "execution_count": 5,
   "id": "848d52e8-ec3d-4067-bda1-8a451c9eae94",
   "metadata": {},
   "outputs": [],
   "source": [
    "#spliting data\n",
    "x_train,x_test,y_train,y_test=train_test_split(x,y,test_size=0.3,random_state=24)"
   ]
  },
  {
   "cell_type": "code",
   "execution_count": 6,
   "id": "0e9dc0cc-a9da-4e30-a2c4-b5fad427911d",
   "metadata": {},
   "outputs": [
    {
     "data": {
      "text/html": [
       "<style>#sk-container-id-1 {color: black;background-color: white;}#sk-container-id-1 pre{padding: 0;}#sk-container-id-1 div.sk-toggleable {background-color: white;}#sk-container-id-1 label.sk-toggleable__label {cursor: pointer;display: block;width: 100%;margin-bottom: 0;padding: 0.3em;box-sizing: border-box;text-align: center;}#sk-container-id-1 label.sk-toggleable__label-arrow:before {content: \"▸\";float: left;margin-right: 0.25em;color: #696969;}#sk-container-id-1 label.sk-toggleable__label-arrow:hover:before {color: black;}#sk-container-id-1 div.sk-estimator:hover label.sk-toggleable__label-arrow:before {color: black;}#sk-container-id-1 div.sk-toggleable__content {max-height: 0;max-width: 0;overflow: hidden;text-align: left;background-color: #f0f8ff;}#sk-container-id-1 div.sk-toggleable__content pre {margin: 0.2em;color: black;border-radius: 0.25em;background-color: #f0f8ff;}#sk-container-id-1 input.sk-toggleable__control:checked~div.sk-toggleable__content {max-height: 200px;max-width: 100%;overflow: auto;}#sk-container-id-1 input.sk-toggleable__control:checked~label.sk-toggleable__label-arrow:before {content: \"▾\";}#sk-container-id-1 div.sk-estimator input.sk-toggleable__control:checked~label.sk-toggleable__label {background-color: #d4ebff;}#sk-container-id-1 div.sk-label input.sk-toggleable__control:checked~label.sk-toggleable__label {background-color: #d4ebff;}#sk-container-id-1 input.sk-hidden--visually {border: 0;clip: rect(1px 1px 1px 1px);clip: rect(1px, 1px, 1px, 1px);height: 1px;margin: -1px;overflow: hidden;padding: 0;position: absolute;width: 1px;}#sk-container-id-1 div.sk-estimator {font-family: monospace;background-color: #f0f8ff;border: 1px dotted black;border-radius: 0.25em;box-sizing: border-box;margin-bottom: 0.5em;}#sk-container-id-1 div.sk-estimator:hover {background-color: #d4ebff;}#sk-container-id-1 div.sk-parallel-item::after {content: \"\";width: 100%;border-bottom: 1px solid gray;flex-grow: 1;}#sk-container-id-1 div.sk-label:hover label.sk-toggleable__label {background-color: #d4ebff;}#sk-container-id-1 div.sk-serial::before {content: \"\";position: absolute;border-left: 1px solid gray;box-sizing: border-box;top: 0;bottom: 0;left: 50%;z-index: 0;}#sk-container-id-1 div.sk-serial {display: flex;flex-direction: column;align-items: center;background-color: white;padding-right: 0.2em;padding-left: 0.2em;position: relative;}#sk-container-id-1 div.sk-item {position: relative;z-index: 1;}#sk-container-id-1 div.sk-parallel {display: flex;align-items: stretch;justify-content: center;background-color: white;position: relative;}#sk-container-id-1 div.sk-item::before, #sk-container-id-1 div.sk-parallel-item::before {content: \"\";position: absolute;border-left: 1px solid gray;box-sizing: border-box;top: 0;bottom: 0;left: 50%;z-index: -1;}#sk-container-id-1 div.sk-parallel-item {display: flex;flex-direction: column;z-index: 1;position: relative;background-color: white;}#sk-container-id-1 div.sk-parallel-item:first-child::after {align-self: flex-end;width: 50%;}#sk-container-id-1 div.sk-parallel-item:last-child::after {align-self: flex-start;width: 50%;}#sk-container-id-1 div.sk-parallel-item:only-child::after {width: 0;}#sk-container-id-1 div.sk-dashed-wrapped {border: 1px dashed gray;margin: 0 0.4em 0.5em 0.4em;box-sizing: border-box;padding-bottom: 0.4em;background-color: white;}#sk-container-id-1 div.sk-label label {font-family: monospace;font-weight: bold;display: inline-block;line-height: 1.2em;}#sk-container-id-1 div.sk-label-container {text-align: center;}#sk-container-id-1 div.sk-container {/* jupyter's `normalize.less` sets `[hidden] { display: none; }` but bootstrap.min.css set `[hidden] { display: none !important; }` so we also need the `!important` here to be able to override the default hidden behavior on the sphinx rendered scikit-learn.org. See: https://github.com/scikit-learn/scikit-learn/issues/21755 */display: inline-block !important;position: relative;}#sk-container-id-1 div.sk-text-repr-fallback {display: none;}</style><div id=\"sk-container-id-1\" class=\"sk-top-container\"><div class=\"sk-text-repr-fallback\"><pre>LinearRegression()</pre><b>In a Jupyter environment, please rerun this cell to show the HTML representation or trust the notebook. <br />On GitHub, the HTML representation is unable to render, please try loading this page with nbviewer.org.</b></div><div class=\"sk-container\" hidden><div class=\"sk-item\"><div class=\"sk-estimator sk-toggleable\"><input class=\"sk-toggleable__control sk-hidden--visually\" id=\"sk-estimator-id-1\" type=\"checkbox\" checked><label for=\"sk-estimator-id-1\" class=\"sk-toggleable__label sk-toggleable__label-arrow\">LinearRegression</label><div class=\"sk-toggleable__content\"><pre>LinearRegression()</pre></div></div></div></div></div>"
      ],
      "text/plain": [
       "LinearRegression()"
      ]
     },
     "execution_count": 6,
     "metadata": {},
     "output_type": "execute_result"
    }
   ],
   "source": [
    "model = LinearRegression()\n",
    "model.fit(x_train,y_train)"
   ]
  },
  {
   "cell_type": "code",
   "execution_count": 7,
   "id": "b9a3d200-85e9-4530-858f-6146f31fda5b",
   "metadata": {},
   "outputs": [],
   "source": [
    "y_pred=model.predict(x_test)"
   ]
  },
  {
   "cell_type": "code",
   "execution_count": 8,
   "id": "fcbc5da5-f216-4e73-841a-fe407e1977b7",
   "metadata": {},
   "outputs": [
    {
     "name": "stdout",
     "output_type": "stream",
     "text": [
      "0.5771752777048793\n",
      "8.030842678161031\n",
      "109.05454495326019\n"
     ]
    }
   ],
   "source": [
    "print(r2_score(y_test,y_pred))\n",
    "print(mean_absolute_error(y_test,y_pred))\n",
    "print(mean_squared_error(y_test,y_pred))"
   ]
  },
  {
   "cell_type": "code",
   "execution_count": 9,
   "id": "6732e93d-e655-4105-88ce-a59994dab6d1",
   "metadata": {},
   "outputs": [
    {
     "name": "stdout",
     "output_type": "stream",
     "text": [
      "['1' 'Cement' 'Blast' 'Fly' 'Water' 'Superplasticizer' 'Coarse' 'Fine'\n",
      " 'Age' 'Cement^2' 'Cement Blast' 'Cement Fly' 'Cement Water'\n",
      " 'Cement Superplasticizer' 'Cement Coarse' 'Cement Fine' 'Cement Age'\n",
      " 'Blast^2' 'Blast Fly' 'Blast Water' 'Blast Superplasticizer'\n",
      " 'Blast Coarse' 'Blast Fine' 'Blast Age' 'Fly^2' 'Fly Water'\n",
      " 'Fly Superplasticizer' 'Fly Coarse' 'Fly Fine' 'Fly Age' 'Water^2'\n",
      " 'Water Superplasticizer' 'Water Coarse' 'Water Fine' 'Water Age'\n",
      " 'Superplasticizer^2' 'Superplasticizer Coarse' 'Superplasticizer Fine'\n",
      " 'Superplasticizer Age' 'Coarse^2' 'Coarse Fine' 'Coarse Age' 'Fine^2'\n",
      " 'Fine Age' 'Age^2']\n"
     ]
    }
   ],
   "source": [
    "# Polynomial for degree 2\n",
    "from sklearn.preprocessing import PolynomialFeatures\n",
    "poly = PolynomialFeatures(degree=2)\n",
    "X_poly = poly.fit_transform(x)\n",
    "print(poly.get_feature_names_out())"
   ]
  },
  {
   "cell_type": "code",
   "execution_count": 10,
   "id": "23115d2d-cb4e-4d40-9d16-5275457fdf31",
   "metadata": {},
   "outputs": [],
   "source": [
    "#spliting the data \n",
    "X_train, X_test, y_train, y_test = train_test_split(X_poly, y, test_size=0.3, random_state=24)"
   ]
  },
  {
   "cell_type": "code",
   "execution_count": 11,
   "id": "41340003-a66d-4ab8-b9ba-414cae5159f7",
   "metadata": {},
   "outputs": [
    {
     "name": "stdout",
     "output_type": "stream",
     "text": [
      "[-1.14941825e-09  1.87081792e+00  1.20178410e+00  3.28855273e-01\n",
      "  1.23150144e+01  3.40697377e+01  1.91617881e+00  2.78984626e+00\n",
      "  1.62046471e-01 -2.15091023e-04 -1.39869157e-04  4.25837478e-04\n",
      " -4.21902811e-03 -1.29155401e-02 -3.73267493e-04 -5.72063007e-04\n",
      "  1.79342582e-04 -2.66310776e-05  8.05978709e-04 -3.21478716e-03\n",
      " -1.11584841e-02 -2.38477871e-04 -2.96295350e-04  3.91404897e-04\n",
      "  6.17513140e-04 -3.64946783e-03 -1.85116732e-02  1.35381842e-04\n",
      "  1.44666995e-04  6.32189455e-04 -7.69265715e-03 -3.28448094e-02\n",
      " -4.11319150e-03 -4.99084121e-03 -2.34230686e-04 -4.42247132e-02\n",
      " -1.16284138e-02 -1.34345150e-02  3.24574676e-03 -2.13623609e-04\n",
      " -7.22757974e-04 -8.26660603e-05 -5.95427644e-04  2.25648998e-04\n",
      " -6.18661070e-04]\n",
      "-3532.95906287145\n"
     ]
    }
   ],
   "source": [
    "lr = LinearRegression()\n",
    "lr.fit(X_train, y_train)\n",
    "print(lr.coef_)\n",
    "print(lr.intercept_)"
   ]
  },
  {
   "cell_type": "code",
   "execution_count": 12,
   "id": "4a72a601-4048-45d3-af51-ee83bd673bc2",
   "metadata": {},
   "outputs": [
    {
     "name": "stdout",
     "output_type": "stream",
     "text": [
      "r2: 0.7807023265227276\n"
     ]
    }
   ],
   "source": [
    "y_pred = lr.predict(X_test)\n",
    "print('r2:',r2_score(y_test, y_pred))"
   ]
  },
  {
   "cell_type": "code",
   "execution_count": 13,
   "id": "8774597e-83fe-48ea-be8b-56146d0c5862",
   "metadata": {},
   "outputs": [
    {
     "name": "stdout",
     "output_type": "stream",
     "text": [
      "['1' 'Cement' 'Blast' 'Fly' 'Water' 'Superplasticizer' 'Coarse' 'Fine'\n",
      " 'Age' 'Cement^2' 'Cement Blast' 'Cement Fly' 'Cement Water'\n",
      " 'Cement Superplasticizer' 'Cement Coarse' 'Cement Fine' 'Cement Age'\n",
      " 'Blast^2' 'Blast Fly' 'Blast Water' 'Blast Superplasticizer'\n",
      " 'Blast Coarse' 'Blast Fine' 'Blast Age' 'Fly^2' 'Fly Water'\n",
      " 'Fly Superplasticizer' 'Fly Coarse' 'Fly Fine' 'Fly Age' 'Water^2'\n",
      " 'Water Superplasticizer' 'Water Coarse' 'Water Fine' 'Water Age'\n",
      " 'Superplasticizer^2' 'Superplasticizer Coarse' 'Superplasticizer Fine'\n",
      " 'Superplasticizer Age' 'Coarse^2' 'Coarse Fine' 'Coarse Age' 'Fine^2'\n",
      " 'Fine Age' 'Age^2' 'Cement^3' 'Cement^2 Blast' 'Cement^2 Fly'\n",
      " 'Cement^2 Water' 'Cement^2 Superplasticizer' 'Cement^2 Coarse'\n",
      " 'Cement^2 Fine' 'Cement^2 Age' 'Cement Blast^2' 'Cement Blast Fly'\n",
      " 'Cement Blast Water' 'Cement Blast Superplasticizer'\n",
      " 'Cement Blast Coarse' 'Cement Blast Fine' 'Cement Blast Age'\n",
      " 'Cement Fly^2' 'Cement Fly Water' 'Cement Fly Superplasticizer'\n",
      " 'Cement Fly Coarse' 'Cement Fly Fine' 'Cement Fly Age' 'Cement Water^2'\n",
      " 'Cement Water Superplasticizer' 'Cement Water Coarse' 'Cement Water Fine'\n",
      " 'Cement Water Age' 'Cement Superplasticizer^2'\n",
      " 'Cement Superplasticizer Coarse' 'Cement Superplasticizer Fine'\n",
      " 'Cement Superplasticizer Age' 'Cement Coarse^2' 'Cement Coarse Fine'\n",
      " 'Cement Coarse Age' 'Cement Fine^2' 'Cement Fine Age' 'Cement Age^2'\n",
      " 'Blast^3' 'Blast^2 Fly' 'Blast^2 Water' 'Blast^2 Superplasticizer'\n",
      " 'Blast^2 Coarse' 'Blast^2 Fine' 'Blast^2 Age' 'Blast Fly^2'\n",
      " 'Blast Fly Water' 'Blast Fly Superplasticizer' 'Blast Fly Coarse'\n",
      " 'Blast Fly Fine' 'Blast Fly Age' 'Blast Water^2'\n",
      " 'Blast Water Superplasticizer' 'Blast Water Coarse' 'Blast Water Fine'\n",
      " 'Blast Water Age' 'Blast Superplasticizer^2'\n",
      " 'Blast Superplasticizer Coarse' 'Blast Superplasticizer Fine'\n",
      " 'Blast Superplasticizer Age' 'Blast Coarse^2' 'Blast Coarse Fine'\n",
      " 'Blast Coarse Age' 'Blast Fine^2' 'Blast Fine Age' 'Blast Age^2' 'Fly^3'\n",
      " 'Fly^2 Water' 'Fly^2 Superplasticizer' 'Fly^2 Coarse' 'Fly^2 Fine'\n",
      " 'Fly^2 Age' 'Fly Water^2' 'Fly Water Superplasticizer' 'Fly Water Coarse'\n",
      " 'Fly Water Fine' 'Fly Water Age' 'Fly Superplasticizer^2'\n",
      " 'Fly Superplasticizer Coarse' 'Fly Superplasticizer Fine'\n",
      " 'Fly Superplasticizer Age' 'Fly Coarse^2' 'Fly Coarse Fine'\n",
      " 'Fly Coarse Age' 'Fly Fine^2' 'Fly Fine Age' 'Fly Age^2' 'Water^3'\n",
      " 'Water^2 Superplasticizer' 'Water^2 Coarse' 'Water^2 Fine' 'Water^2 Age'\n",
      " 'Water Superplasticizer^2' 'Water Superplasticizer Coarse'\n",
      " 'Water Superplasticizer Fine' 'Water Superplasticizer Age'\n",
      " 'Water Coarse^2' 'Water Coarse Fine' 'Water Coarse Age' 'Water Fine^2'\n",
      " 'Water Fine Age' 'Water Age^2' 'Superplasticizer^3'\n",
      " 'Superplasticizer^2 Coarse' 'Superplasticizer^2 Fine'\n",
      " 'Superplasticizer^2 Age' 'Superplasticizer Coarse^2'\n",
      " 'Superplasticizer Coarse Fine' 'Superplasticizer Coarse Age'\n",
      " 'Superplasticizer Fine^2' 'Superplasticizer Fine Age'\n",
      " 'Superplasticizer Age^2' 'Coarse^3' 'Coarse^2 Fine' 'Coarse^2 Age'\n",
      " 'Coarse Fine^2' 'Coarse Fine Age' 'Coarse Age^2' 'Fine^3' 'Fine^2 Age'\n",
      " 'Fine Age^2' 'Age^3']\n"
     ]
    }
   ],
   "source": [
    "# Polynomial for degree 3\n",
    "from sklearn.preprocessing import PolynomialFeatures\n",
    "poly = PolynomialFeatures(degree=3)\n",
    "X_poly = poly.fit_transform(x)\n",
    "print(poly.get_feature_names_out())"
   ]
  },
  {
   "cell_type": "code",
   "execution_count": 14,
   "id": "781df047-f1a3-4274-8af5-2a432bbc8df3",
   "metadata": {},
   "outputs": [],
   "source": [
    "#spliting the data \n",
    "X_train, X_test, y_train, y_test = train_test_split(X_poly, y, test_size=0.3, random_state=24)"
   ]
  },
  {
   "cell_type": "code",
   "execution_count": 15,
   "id": "8fcd12bd-1891-4d04-a3d4-8536ea7a97ae",
   "metadata": {},
   "outputs": [
    {
     "name": "stdout",
     "output_type": "stream",
     "text": [
      "[ 2.05340006e-02 -1.88667243e+02 -1.83614757e+02 -4.48291726e+02\n",
      " -3.32389913e+02  2.10396348e+03 -1.65522187e+02 -2.13248477e+02\n",
      "  1.32997527e+01  7.78340919e-02  1.75949061e-01  3.31971181e-01\n",
      "  2.24319160e-01 -1.39602490e+00  1.25753874e-01  1.92731493e-01\n",
      " -1.00738998e-02  7.80009088e-02  3.51022699e-01  2.37079597e-01\n",
      " -1.28133228e+00  9.38706255e-02  2.11745858e-01  1.11393749e-02\n",
      "  2.97245582e-01  6.61717931e-01 -1.21537061e+00  2.89606945e-01\n",
      "  4.56843468e-01 -3.07661695e-02  1.10464887e-01 -5.36021471e+00\n",
      "  3.00948614e-01  3.27272188e-01 -3.15775716e-02 -5.40191897e+00\n",
      " -1.21064593e+00 -1.87984454e+00  6.85443987e-01  5.95826494e-02\n",
      "  1.43601548e-01 -1.61313900e-02  9.51614257e-02 -7.60061812e-04\n",
      "  4.18979717e-04 -1.05032357e-05 -3.82013731e-05 -6.29633530e-05\n",
      " -4.73468328e-05  2.12056009e-04 -2.54927726e-05 -3.99248967e-05\n",
      "  3.74717910e-06 -3.95155474e-05 -1.41469776e-04 -1.18200254e-04\n",
      "  4.24838627e-04 -4.98776385e-05 -9.64073974e-05  3.10520534e-07\n",
      " -9.96926763e-05 -2.51175993e-04  3.78579958e-04 -1.03630606e-04\n",
      " -1.70513230e-04  1.45900803e-05  1.95232748e-05  1.98227139e-03\n",
      " -8.71962239e-05 -1.42021751e-04  7.04496865e-06  2.10945440e-03\n",
      "  3.96069894e-04  6.01948406e-04 -3.42186575e-04 -2.09156381e-05\n",
      " -6.21823543e-05  5.22264404e-06 -4.64969646e-05  2.33391040e-06\n",
      " -3.46594695e-06 -1.10077794e-05 -7.42479338e-05 -4.00397200e-05\n",
      "  2.54935279e-04 -1.77048117e-05 -4.97064685e-05 -5.06404754e-06\n",
      " -1.13585934e-04 -2.61884364e-04  3.68574917e-04 -9.56210373e-05\n",
      " -1.95446208e-04 -7.59867719e-07 -3.24483804e-05  1.53268766e-03\n",
      " -5.97035104e-05 -1.60882986e-04 -3.16377974e-05  1.26254445e-03\n",
      "  3.66016927e-04  6.01262969e-04 -2.90691526e-04 -9.91791256e-06\n",
      " -5.82592634e-05  2.69104720e-06 -5.57839292e-05 -7.46972844e-06\n",
      " -4.18132754e-06 -5.37668267e-05 -2.55925255e-04  6.44102782e-05\n",
      " -8.83249784e-05 -1.55383530e-04  1.43442641e-05 -1.27542861e-04\n",
      "  2.26592438e-03 -2.19117555e-04 -3.87583472e-04  3.35250162e-05\n",
      "  2.94366826e-03  2.44954179e-04  5.11302411e-04 -2.16601081e-04\n",
      " -4.66122108e-05 -1.49379440e-04  1.44732513e-05 -1.07759653e-04\n",
      "  6.64519501e-06 -9.21540087e-06  8.26031518e-05  3.37321177e-03\n",
      " -1.06992152e-04 -9.06776522e-05  2.21802425e-05  4.70816301e-03\n",
      "  1.50019933e-03  2.33407845e-03 -2.60866614e-04 -7.07377724e-05\n",
      " -1.22597029e-04  2.00782328e-05 -7.69895345e-05 -7.73393111e-07\n",
      "  2.71815225e-07  3.29061408e-03  1.75767229e-03  2.29565337e-03\n",
      "  3.46083473e-04  1.61692742e-04  5.94167498e-04 -2.73691833e-04\n",
      "  3.98988008e-04 -2.59401885e-04 -3.09579181e-04 -6.65987761e-06\n",
      " -2.47095915e-05  3.08681570e-06 -3.09598356e-05  5.23211725e-06\n",
      "  9.47646186e-07 -1.34679269e-05 -2.71188162e-06 -3.62556403e-06\n",
      "  4.26153997e-06]\n",
      "153947.38353283113\n"
     ]
    }
   ],
   "source": [
    "lr = LinearRegression()\n",
    "lr.fit(X_train, y_train)\n",
    "print(lr.coef_)\n",
    "print(lr.intercept_)"
   ]
  },
  {
   "cell_type": "code",
   "execution_count": 16,
   "id": "8b0aa91b-609b-4bcd-ac5e-51bb5a20e264",
   "metadata": {},
   "outputs": [
    {
     "name": "stdout",
     "output_type": "stream",
     "text": [
      "r2: 0.8622801190415997\n"
     ]
    }
   ],
   "source": [
    "y_pred = lr.predict(X_test)\n",
    "print('r2:',r2_score(y_test, y_pred))"
   ]
  },
  {
   "cell_type": "code",
   "execution_count": 17,
   "id": "fda37093-1be0-4e0f-bc9e-3f873053da2b",
   "metadata": {},
   "outputs": [],
   "source": [
    "## Interpretation \n",
    "## Is that the degree of 3 is better for this code to train the model "
   ]
  },
  {
   "cell_type": "code",
   "execution_count": null,
   "id": "f3905505-16c9-4867-80bd-81643461f5bd",
   "metadata": {},
   "outputs": [],
   "source": []
  }
 ],
 "metadata": {
  "kernelspec": {
   "display_name": "Python 3 (ipykernel)",
   "language": "python",
   "name": "python3"
  },
  "language_info": {
   "codemirror_mode": {
    "name": "ipython",
    "version": 3
   },
   "file_extension": ".py",
   "mimetype": "text/x-python",
   "name": "python",
   "nbconvert_exporter": "python",
   "pygments_lexer": "ipython3",
   "version": "3.11.7"
  }
 },
 "nbformat": 4,
 "nbformat_minor": 5
}
