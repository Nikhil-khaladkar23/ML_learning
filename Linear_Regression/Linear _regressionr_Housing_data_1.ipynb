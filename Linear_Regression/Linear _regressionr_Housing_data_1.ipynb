{
 "cells": [
  {
   "cell_type": "code",
   "execution_count": 2,
   "id": "2a65caae-6b6e-4aae-9c51-3af9dc72e2c1",
   "metadata": {},
   "outputs": [],
   "source": [
    "import pandas as pd\n",
    "import numpy as np\n",
    "from sklearn.metrics import *\n",
    "from sklearn.linear_model import LinearRegression\n",
    "from sklearn.model_selection import train_test_split"
   ]
  },
  {
   "cell_type": "code",
   "execution_count": 3,
   "id": "7c040f71-87df-4f9e-9ae6-631d671bf43e",
   "metadata": {},
   "outputs": [
    {
     "data": {
      "text/html": [
       "<div>\n",
       "<style scoped>\n",
       "    .dataframe tbody tr th:only-of-type {\n",
       "        vertical-align: middle;\n",
       "    }\n",
       "\n",
       "    .dataframe tbody tr th {\n",
       "        vertical-align: top;\n",
       "    }\n",
       "\n",
       "    .dataframe thead th {\n",
       "        text-align: right;\n",
       "    }\n",
       "</style>\n",
       "<table border=\"1\" class=\"dataframe\">\n",
       "  <thead>\n",
       "    <tr style=\"text-align: right;\">\n",
       "      <th></th>\n",
       "      <th>price</th>\n",
       "      <th>lotsize</th>\n",
       "      <th>bedrooms</th>\n",
       "      <th>bathrms</th>\n",
       "      <th>stories</th>\n",
       "      <th>driveway</th>\n",
       "      <th>recroom</th>\n",
       "      <th>fullbase</th>\n",
       "      <th>gashw</th>\n",
       "      <th>airco</th>\n",
       "      <th>garagepl</th>\n",
       "      <th>prefarea</th>\n",
       "    </tr>\n",
       "  </thead>\n",
       "  <tbody>\n",
       "    <tr>\n",
       "      <th>0</th>\n",
       "      <td>42000.0</td>\n",
       "      <td>5850</td>\n",
       "      <td>3</td>\n",
       "      <td>1</td>\n",
       "      <td>2</td>\n",
       "      <td>yes</td>\n",
       "      <td>no</td>\n",
       "      <td>yes</td>\n",
       "      <td>no</td>\n",
       "      <td>no</td>\n",
       "      <td>1</td>\n",
       "      <td>no</td>\n",
       "    </tr>\n",
       "    <tr>\n",
       "      <th>1</th>\n",
       "      <td>38500.0</td>\n",
       "      <td>4000</td>\n",
       "      <td>2</td>\n",
       "      <td>1</td>\n",
       "      <td>1</td>\n",
       "      <td>yes</td>\n",
       "      <td>no</td>\n",
       "      <td>no</td>\n",
       "      <td>no</td>\n",
       "      <td>no</td>\n",
       "      <td>0</td>\n",
       "      <td>no</td>\n",
       "    </tr>\n",
       "    <tr>\n",
       "      <th>2</th>\n",
       "      <td>49500.0</td>\n",
       "      <td>3060</td>\n",
       "      <td>3</td>\n",
       "      <td>1</td>\n",
       "      <td>1</td>\n",
       "      <td>yes</td>\n",
       "      <td>no</td>\n",
       "      <td>no</td>\n",
       "      <td>no</td>\n",
       "      <td>no</td>\n",
       "      <td>0</td>\n",
       "      <td>no</td>\n",
       "    </tr>\n",
       "    <tr>\n",
       "      <th>3</th>\n",
       "      <td>60500.0</td>\n",
       "      <td>6650</td>\n",
       "      <td>3</td>\n",
       "      <td>1</td>\n",
       "      <td>2</td>\n",
       "      <td>yes</td>\n",
       "      <td>yes</td>\n",
       "      <td>no</td>\n",
       "      <td>no</td>\n",
       "      <td>no</td>\n",
       "      <td>0</td>\n",
       "      <td>no</td>\n",
       "    </tr>\n",
       "    <tr>\n",
       "      <th>4</th>\n",
       "      <td>61000.0</td>\n",
       "      <td>6360</td>\n",
       "      <td>2</td>\n",
       "      <td>1</td>\n",
       "      <td>1</td>\n",
       "      <td>yes</td>\n",
       "      <td>no</td>\n",
       "      <td>no</td>\n",
       "      <td>no</td>\n",
       "      <td>no</td>\n",
       "      <td>0</td>\n",
       "      <td>no</td>\n",
       "    </tr>\n",
       "  </tbody>\n",
       "</table>\n",
       "</div>"
      ],
      "text/plain": [
       "     price  lotsize  bedrooms  bathrms  stories driveway recroom fullbase  \\\n",
       "0  42000.0     5850         3        1        2      yes      no      yes   \n",
       "1  38500.0     4000         2        1        1      yes      no       no   \n",
       "2  49500.0     3060         3        1        1      yes      no       no   \n",
       "3  60500.0     6650         3        1        2      yes     yes       no   \n",
       "4  61000.0     6360         2        1        1      yes      no       no   \n",
       "\n",
       "  gashw airco  garagepl prefarea  \n",
       "0    no    no         1       no  \n",
       "1    no    no         0       no  \n",
       "2    no    no         0       no  \n",
       "3    no    no         0       no  \n",
       "4    no    no         0       no  "
      ]
     },
     "execution_count": 3,
     "metadata": {},
     "output_type": "execute_result"
    }
   ],
   "source": [
    "df= pd.read_csv(\"C:\\\\Users\\\\dhsup\\\\Desktop\\\\assingment\\\\Machine Learning\\\\Datasets\\\\Datasets\\Housing.csv\")\n",
    "df.head()"
   ]
  },
  {
   "cell_type": "code",
   "execution_count": 11,
   "id": "1603b492-21f9-41b2-8d26-8f008e0e29a0",
   "metadata": {},
   "outputs": [],
   "source": [
    "#cat_lis = [\"driveway\",\"recroom\",\"fullbase\",\"gashw\",\"airco\",\"prefarea\"]\n",
    "#df1=df[cat_lis]\n",
    "df_dum = pd.get_dummies(df)\n"
   ]
  },
  {
   "cell_type": "code",
   "execution_count": 37,
   "id": "8481bdac-cc0b-44bd-80d2-d5c9e5607cec",
   "metadata": {},
   "outputs": [],
   "source": [
    "x=df_dum.drop(\"price\",axis = 1)\n",
    "y=df_dum[\"price\"]"
   ]
  },
  {
   "cell_type": "code",
   "execution_count": 48,
   "id": "01b0a152-965f-460a-b627-da120f75fabb",
   "metadata": {},
   "outputs": [],
   "source": [
    "#spliting data\n",
    "x_train,x_test,y_train,y_test=train_test_split(x,y,test_size=0.3,random_state=24)"
   ]
  },
  {
   "cell_type": "code",
   "execution_count": 40,
   "id": "c4f91b3a-f236-494e-b18d-b57c5daac8fe",
   "metadata": {},
   "outputs": [
    {
     "data": {
      "text/html": [
       "<style>#sk-container-id-3 {color: black;background-color: white;}#sk-container-id-3 pre{padding: 0;}#sk-container-id-3 div.sk-toggleable {background-color: white;}#sk-container-id-3 label.sk-toggleable__label {cursor: pointer;display: block;width: 100%;margin-bottom: 0;padding: 0.3em;box-sizing: border-box;text-align: center;}#sk-container-id-3 label.sk-toggleable__label-arrow:before {content: \"▸\";float: left;margin-right: 0.25em;color: #696969;}#sk-container-id-3 label.sk-toggleable__label-arrow:hover:before {color: black;}#sk-container-id-3 div.sk-estimator:hover label.sk-toggleable__label-arrow:before {color: black;}#sk-container-id-3 div.sk-toggleable__content {max-height: 0;max-width: 0;overflow: hidden;text-align: left;background-color: #f0f8ff;}#sk-container-id-3 div.sk-toggleable__content pre {margin: 0.2em;color: black;border-radius: 0.25em;background-color: #f0f8ff;}#sk-container-id-3 input.sk-toggleable__control:checked~div.sk-toggleable__content {max-height: 200px;max-width: 100%;overflow: auto;}#sk-container-id-3 input.sk-toggleable__control:checked~label.sk-toggleable__label-arrow:before {content: \"▾\";}#sk-container-id-3 div.sk-estimator input.sk-toggleable__control:checked~label.sk-toggleable__label {background-color: #d4ebff;}#sk-container-id-3 div.sk-label input.sk-toggleable__control:checked~label.sk-toggleable__label {background-color: #d4ebff;}#sk-container-id-3 input.sk-hidden--visually {border: 0;clip: rect(1px 1px 1px 1px);clip: rect(1px, 1px, 1px, 1px);height: 1px;margin: -1px;overflow: hidden;padding: 0;position: absolute;width: 1px;}#sk-container-id-3 div.sk-estimator {font-family: monospace;background-color: #f0f8ff;border: 1px dotted black;border-radius: 0.25em;box-sizing: border-box;margin-bottom: 0.5em;}#sk-container-id-3 div.sk-estimator:hover {background-color: #d4ebff;}#sk-container-id-3 div.sk-parallel-item::after {content: \"\";width: 100%;border-bottom: 1px solid gray;flex-grow: 1;}#sk-container-id-3 div.sk-label:hover label.sk-toggleable__label {background-color: #d4ebff;}#sk-container-id-3 div.sk-serial::before {content: \"\";position: absolute;border-left: 1px solid gray;box-sizing: border-box;top: 0;bottom: 0;left: 50%;z-index: 0;}#sk-container-id-3 div.sk-serial {display: flex;flex-direction: column;align-items: center;background-color: white;padding-right: 0.2em;padding-left: 0.2em;position: relative;}#sk-container-id-3 div.sk-item {position: relative;z-index: 1;}#sk-container-id-3 div.sk-parallel {display: flex;align-items: stretch;justify-content: center;background-color: white;position: relative;}#sk-container-id-3 div.sk-item::before, #sk-container-id-3 div.sk-parallel-item::before {content: \"\";position: absolute;border-left: 1px solid gray;box-sizing: border-box;top: 0;bottom: 0;left: 50%;z-index: -1;}#sk-container-id-3 div.sk-parallel-item {display: flex;flex-direction: column;z-index: 1;position: relative;background-color: white;}#sk-container-id-3 div.sk-parallel-item:first-child::after {align-self: flex-end;width: 50%;}#sk-container-id-3 div.sk-parallel-item:last-child::after {align-self: flex-start;width: 50%;}#sk-container-id-3 div.sk-parallel-item:only-child::after {width: 0;}#sk-container-id-3 div.sk-dashed-wrapped {border: 1px dashed gray;margin: 0 0.4em 0.5em 0.4em;box-sizing: border-box;padding-bottom: 0.4em;background-color: white;}#sk-container-id-3 div.sk-label label {font-family: monospace;font-weight: bold;display: inline-block;line-height: 1.2em;}#sk-container-id-3 div.sk-label-container {text-align: center;}#sk-container-id-3 div.sk-container {/* jupyter's `normalize.less` sets `[hidden] { display: none; }` but bootstrap.min.css set `[hidden] { display: none !important; }` so we also need the `!important` here to be able to override the default hidden behavior on the sphinx rendered scikit-learn.org. See: https://github.com/scikit-learn/scikit-learn/issues/21755 */display: inline-block !important;position: relative;}#sk-container-id-3 div.sk-text-repr-fallback {display: none;}</style><div id=\"sk-container-id-3\" class=\"sk-top-container\"><div class=\"sk-text-repr-fallback\"><pre>LinearRegression()</pre><b>In a Jupyter environment, please rerun this cell to show the HTML representation or trust the notebook. <br />On GitHub, the HTML representation is unable to render, please try loading this page with nbviewer.org.</b></div><div class=\"sk-container\" hidden><div class=\"sk-item\"><div class=\"sk-estimator sk-toggleable\"><input class=\"sk-toggleable__control sk-hidden--visually\" id=\"sk-estimator-id-3\" type=\"checkbox\" checked><label for=\"sk-estimator-id-3\" class=\"sk-toggleable__label sk-toggleable__label-arrow\">LinearRegression</label><div class=\"sk-toggleable__content\"><pre>LinearRegression()</pre></div></div></div></div></div>"
      ],
      "text/plain": [
       "LinearRegression()"
      ]
     },
     "execution_count": 40,
     "metadata": {},
     "output_type": "execute_result"
    }
   ],
   "source": [
    "model = LinearRegression()\n",
    "model.fit(x_train,y_train)"
   ]
  },
  {
   "cell_type": "code",
   "execution_count": 41,
   "id": "dedf5872-665b-4b27-8d6d-62873cb49d37",
   "metadata": {},
   "outputs": [],
   "source": [
    "y_pred=model.predict(x_test)"
   ]
  },
  {
   "cell_type": "code",
   "execution_count": 42,
   "id": "9eeb0bb6-5983-4b69-945d-de4c4432c0a0",
   "metadata": {},
   "outputs": [
    {
     "name": "stdout",
     "output_type": "stream",
     "text": [
      "0.6246856191453716\n",
      "12263.498085777746\n",
      "262304545.81417164\n"
     ]
    }
   ],
   "source": [
    "print(r2_score(y_test,y_pred))\n",
    "print(mean_absolute_error(y_test,y_pred))\n",
    "print(mean_squared_error(y_test,y_pred))"
   ]
  },
  {
   "cell_type": "code",
   "execution_count": 43,
   "id": "711791cc-d648-45e3-bbc2-e9372436d672",
   "metadata": {},
   "outputs": [
    {
     "name": "stdout",
     "output_type": "stream",
     "text": [
      "[ 3.60793308e+00  1.90378390e+03  1.42583607e+04  6.50823107e+03\n",
      "  5.15503416e+03 -3.68985513e+03  3.68985513e+03 -1.80293585e+03\n",
      "  1.80293585e+03 -3.65316522e+03  3.65316522e+03 -5.44385753e+03\n",
      "  5.44385753e+03 -6.15822218e+03  6.15822218e+03 -3.83039838e+03\n",
      "  3.83039838e+03]\n",
      "20061.991978131984\n"
     ]
    }
   ],
   "source": [
    "\n",
    "print(model.coef_)\n",
    "print(model.intercept_)"
   ]
  },
  {
   "cell_type": "code",
   "execution_count": 44,
   "id": "9378e6cb-1cae-4754-8adb-13d73b3e4eb5",
   "metadata": {},
   "outputs": [
    {
     "name": "stdout",
     "output_type": "stream",
     "text": [
      "['1' 'lotsize' 'bedrooms' 'bathrms' 'stories' 'garagepl' 'driveway_no'\n",
      " 'driveway_yes' 'recroom_no' 'recroom_yes' 'fullbase_no' 'fullbase_yes'\n",
      " 'gashw_no' 'gashw_yes' 'airco_no' 'airco_yes' 'prefarea_no'\n",
      " 'prefarea_yes' 'lotsize^2' 'lotsize bedrooms' 'lotsize bathrms'\n",
      " 'lotsize stories' 'lotsize garagepl' 'lotsize driveway_no'\n",
      " 'lotsize driveway_yes' 'lotsize recroom_no' 'lotsize recroom_yes'\n",
      " 'lotsize fullbase_no' 'lotsize fullbase_yes' 'lotsize gashw_no'\n",
      " 'lotsize gashw_yes' 'lotsize airco_no' 'lotsize airco_yes'\n",
      " 'lotsize prefarea_no' 'lotsize prefarea_yes' 'bedrooms^2'\n",
      " 'bedrooms bathrms' 'bedrooms stories' 'bedrooms garagepl'\n",
      " 'bedrooms driveway_no' 'bedrooms driveway_yes' 'bedrooms recroom_no'\n",
      " 'bedrooms recroom_yes' 'bedrooms fullbase_no' 'bedrooms fullbase_yes'\n",
      " 'bedrooms gashw_no' 'bedrooms gashw_yes' 'bedrooms airco_no'\n",
      " 'bedrooms airco_yes' 'bedrooms prefarea_no' 'bedrooms prefarea_yes'\n",
      " 'bathrms^2' 'bathrms stories' 'bathrms garagepl' 'bathrms driveway_no'\n",
      " 'bathrms driveway_yes' 'bathrms recroom_no' 'bathrms recroom_yes'\n",
      " 'bathrms fullbase_no' 'bathrms fullbase_yes' 'bathrms gashw_no'\n",
      " 'bathrms gashw_yes' 'bathrms airco_no' 'bathrms airco_yes'\n",
      " 'bathrms prefarea_no' 'bathrms prefarea_yes' 'stories^2'\n",
      " 'stories garagepl' 'stories driveway_no' 'stories driveway_yes'\n",
      " 'stories recroom_no' 'stories recroom_yes' 'stories fullbase_no'\n",
      " 'stories fullbase_yes' 'stories gashw_no' 'stories gashw_yes'\n",
      " 'stories airco_no' 'stories airco_yes' 'stories prefarea_no'\n",
      " 'stories prefarea_yes' 'garagepl^2' 'garagepl driveway_no'\n",
      " 'garagepl driveway_yes' 'garagepl recroom_no' 'garagepl recroom_yes'\n",
      " 'garagepl fullbase_no' 'garagepl fullbase_yes' 'garagepl gashw_no'\n",
      " 'garagepl gashw_yes' 'garagepl airco_no' 'garagepl airco_yes'\n",
      " 'garagepl prefarea_no' 'garagepl prefarea_yes' 'driveway_no^2'\n",
      " 'driveway_no driveway_yes' 'driveway_no recroom_no'\n",
      " 'driveway_no recroom_yes' 'driveway_no fullbase_no'\n",
      " 'driveway_no fullbase_yes' 'driveway_no gashw_no' 'driveway_no gashw_yes'\n",
      " 'driveway_no airco_no' 'driveway_no airco_yes' 'driveway_no prefarea_no'\n",
      " 'driveway_no prefarea_yes' 'driveway_yes^2' 'driveway_yes recroom_no'\n",
      " 'driveway_yes recroom_yes' 'driveway_yes fullbase_no'\n",
      " 'driveway_yes fullbase_yes' 'driveway_yes gashw_no'\n",
      " 'driveway_yes gashw_yes' 'driveway_yes airco_no' 'driveway_yes airco_yes'\n",
      " 'driveway_yes prefarea_no' 'driveway_yes prefarea_yes' 'recroom_no^2'\n",
      " 'recroom_no recroom_yes' 'recroom_no fullbase_no'\n",
      " 'recroom_no fullbase_yes' 'recroom_no gashw_no' 'recroom_no gashw_yes'\n",
      " 'recroom_no airco_no' 'recroom_no airco_yes' 'recroom_no prefarea_no'\n",
      " 'recroom_no prefarea_yes' 'recroom_yes^2' 'recroom_yes fullbase_no'\n",
      " 'recroom_yes fullbase_yes' 'recroom_yes gashw_no' 'recroom_yes gashw_yes'\n",
      " 'recroom_yes airco_no' 'recroom_yes airco_yes' 'recroom_yes prefarea_no'\n",
      " 'recroom_yes prefarea_yes' 'fullbase_no^2' 'fullbase_no fullbase_yes'\n",
      " 'fullbase_no gashw_no' 'fullbase_no gashw_yes' 'fullbase_no airco_no'\n",
      " 'fullbase_no airco_yes' 'fullbase_no prefarea_no'\n",
      " 'fullbase_no prefarea_yes' 'fullbase_yes^2' 'fullbase_yes gashw_no'\n",
      " 'fullbase_yes gashw_yes' 'fullbase_yes airco_no' 'fullbase_yes airco_yes'\n",
      " 'fullbase_yes prefarea_no' 'fullbase_yes prefarea_yes' 'gashw_no^2'\n",
      " 'gashw_no gashw_yes' 'gashw_no airco_no' 'gashw_no airco_yes'\n",
      " 'gashw_no prefarea_no' 'gashw_no prefarea_yes' 'gashw_yes^2'\n",
      " 'gashw_yes airco_no' 'gashw_yes airco_yes' 'gashw_yes prefarea_no'\n",
      " 'gashw_yes prefarea_yes' 'airco_no^2' 'airco_no airco_yes'\n",
      " 'airco_no prefarea_no' 'airco_no prefarea_yes' 'airco_yes^2'\n",
      " 'airco_yes prefarea_no' 'airco_yes prefarea_yes' 'prefarea_no^2'\n",
      " 'prefarea_no prefarea_yes' 'prefarea_yes^2']\n"
     ]
    }
   ],
   "source": [
    "# Polynomial\n",
    "from sklearn.preprocessing import PolynomialFeatures\n",
    "poly = PolynomialFeatures(degree=2)\n",
    "X_poly = poly.fit_transform(x)\n",
    "print(poly.get_feature_names_out())"
   ]
  },
  {
   "cell_type": "code",
   "execution_count": 45,
   "id": "cacad669-a940-4918-aadb-23dc484f160e",
   "metadata": {},
   "outputs": [],
   "source": [
    "X_train, X_test, y_train, y_test = train_test_split(X_poly, y, test_size=0.3, random_state=24)"
   ]
  },
  {
   "cell_type": "code",
   "execution_count": 46,
   "id": "a30d0c7f-2a51-4296-af28-008db09df634",
   "metadata": {},
   "outputs": [
    {
     "name": "stdout",
     "output_type": "stream",
     "text": [
      "[-5.66452451e+06  4.57500791e+09  1.79207559e+08  4.74814084e+07\n",
      " -1.14750620e+08  1.78295997e+07 -3.08988768e+07 -8.29776584e+05\n",
      "  2.76011284e+07  7.96377031e+06  1.20946222e+07  1.28169554e+06\n",
      "  7.22129232e+06 -7.15240130e+06 -7.41451559e+05 -7.58272658e+06\n",
      "  4.10550064e+04  2.24441994e+03 -1.39236450e-04  1.10095868e+00\n",
      "  6.89726129e-01 -8.29558551e-01 -4.04043175e-01 -7.62420018e+08\n",
      " -7.62420016e+08 -7.62459171e+08 -7.62459173e+08 -7.62421411e+08\n",
      " -7.62421410e+08 -7.62547708e+08 -7.62547708e+08 -7.62657678e+08\n",
      " -7.62657676e+08 -7.62501922e+08 -7.62501921e+08  1.59958968e+03\n",
      " -5.59229542e+03 -3.05137217e+03  2.05527373e+03 -2.98678317e+07\n",
      " -2.98652641e+07 -2.98671173e+07 -2.98655116e+07 -2.98647739e+07\n",
      " -2.98620882e+07 -2.98800800e+07 -2.98547982e+07 -2.98657188e+07\n",
      " -2.98672710e+07 -2.98657220e+07 -2.98666080e+07  3.24064977e+03\n",
      " -1.23664497e+03  3.09942868e+03 -7.91343116e+06 -7.91167670e+06\n",
      " -7.90857283e+06 -7.91614385e+06 -7.91070328e+06 -7.91154199e+06\n",
      " -7.90667700e+06 -7.91752970e+06 -7.91313109e+06 -7.91003216e+06\n",
      " -7.91670396e+06 -7.90708119e+06 -6.95844371e+02  1.10072324e+03\n",
      "  1.91245359e+07  1.91277042e+07  1.91291380e+07  1.91235317e+07\n",
      "  1.91296153e+07  1.91260022e+07  1.91338745e+07  1.91215819e+07\n",
      "  1.91271358e+07  1.91295854e+07  1.91256646e+07  1.91294739e+07\n",
      " -2.88491929e+03 -2.97322573e+06 -2.96895711e+06 -2.97365320e+06\n",
      " -2.96790478e+06 -2.97298227e+06 -2.96926375e+06 -2.97099235e+06\n",
      " -2.97232601e+06 -2.97276044e+06 -2.97152792e+06 -2.97162023e+06\n",
      " -2.97362270e+06  4.29228249e+06  0.00000000e+00  7.42254952e+05\n",
      "  3.55072913e+06  1.37258763e+06  2.91953904e+06  1.29696036e+06\n",
      "  2.99208069e+06  1.82529462e+06  2.46866084e+06  2.15362272e+06\n",
      "  2.14284146e+06 -4.29650982e+06 -3.55147416e+06 -7.44617841e+05\n",
      " -2.91881013e+06 -1.37507526e+06 -3.01203164e+06 -1.28156012e+06\n",
      " -2.46724115e+06 -1.82744997e+06 -2.15472231e+06 -2.14130237e+06\n",
      " -2.80655734e+06  0.00000000e+00 -2.17706702e+06 -6.28230457e+05\n",
      " -2.26916152e+06 -5.38444165e+05 -1.72236564e+06 -1.08579332e+06\n",
      " -1.40709383e+06 -1.39885788e+06  2.80669502e+06  6.31878298e+05\n",
      "  2.17408260e+06  5.56911926e+05  2.24901675e+06  1.07953957e+06\n",
      "  1.72699575e+06  1.40541325e+06  1.40143331e+06 -1.54684898e+06\n",
      "  0.00000000e+00 -1.62332508e+06  7.80434765e+04 -1.09797750e+06\n",
      " -4.51256051e+05 -7.73525845e+05 -7.73226605e+05  1.54684898e+06\n",
      " -8.80194677e+04  1.63271543e+06  4.54946958e+05  1.09304255e+06\n",
      "  7.69022996e+05  7.75809366e+05 -1.71101511e+06  0.00000000e+00\n",
      " -2.35255426e+06  6.40260462e+05 -8.55005501e+05 -8.56592094e+05\n",
      "  1.71082814e+06  1.71082814e+06  0.00000000e+00  8.51552807e+05\n",
      "  8.59599150e+05 -6.41288327e+05  0.00000000e+00 -3.22415257e+05\n",
      " -3.19255674e+05  6.40260462e+05  3.21121387e+05  3.21409836e+05\n",
      " -2.16075154e+03  0.00000000e+00  2.25201864e+03]\n",
      "-13275.376656577224\n"
     ]
    }
   ],
   "source": [
    "lr = LinearRegression()\n",
    "lr.fit(X_train, y_train)\n",
    "print(lr.coef_)\n",
    "print(lr.intercept_)"
   ]
  },
  {
   "cell_type": "code",
   "execution_count": 47,
   "id": "a5ea4187-6b4c-4896-b4d8-5b123c701a12",
   "metadata": {},
   "outputs": [
    {
     "name": "stdout",
     "output_type": "stream",
     "text": [
      "r2: -189.79693253078747\n"
     ]
    }
   ],
   "source": [
    "y_pred = lr.predict(X_test)\n",
    "print('r2:',r2_score(y_test, y_pred))"
   ]
  }
 ],
 "metadata": {
  "kernelspec": {
   "display_name": "Python 3 (ipykernel)",
   "language": "python",
   "name": "python3"
  },
  "language_info": {
   "codemirror_mode": {
    "name": "ipython",
    "version": 3
   },
   "file_extension": ".py",
   "mimetype": "text/x-python",
   "name": "python",
   "nbconvert_exporter": "python",
   "pygments_lexer": "ipython3",
   "version": "3.11.7"
  }
 },
 "nbformat": 4,
 "nbformat_minor": 5
}
